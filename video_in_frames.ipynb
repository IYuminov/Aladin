{
 "cells": [
  {
   "cell_type": "code",
   "execution_count": null,
   "metadata": {},
   "outputs": [],
   "source": [
    "!pip install opencv-python moviepy"
   ]
  },
  {
   "cell_type": "code",
   "execution_count": null,
   "metadata": {},
   "outputs": [],
   "source": [
    "from datetime import timedelta\n",
    "import cv2\n",
    "import numpy as np\n",
    "import os\n",
    "\n",
    "# количестко кадров в секунду\n",
    "SAVING_FRAMES_PER_SECOND = 10"
   ]
  },
  {
   "cell_type": "code",
   "execution_count": null,
   "metadata": {},
   "outputs": [],
   "source": [
    "def format_timedelta(td):\n",
    "    \"\"\"Служебная функция для форматирования объектов timedelta (например, 00:00:20.05)\n",
    "    исключая микросекунды и сохраняя миллисекунды\"\"\"\n",
    "    result = str(td)\n",
    "    try:\n",
    "        result, ms = result.split(\".\")\n",
    "    except ValueError:\n",
    "        return result + \".00\".replace(\":\", \"-\")\n",
    "    ms = int(ms)\n",
    "    ms = round(ms / 1e4)\n",
    "    return f\"{result}.{ms:02}\".replace(\":\", \"-\")\n",
    "    \n",
    "    \n",
    "def get_saving_frames_durations(cap, saving_fps):\n",
    "    \"\"\"Функция, которая возвращает список длительностей, в которые следует сохранять кадры.\"\"\"\n",
    "    s = []\n",
    "    # получаем продолжительность клипа, разделив количество кадров на количество кадров в секунду\n",
    "    clip_duration = cap.get(cv2.CAP_PROP_FRAME_COUNT) / cap.get(cv2.CAP_PROP_FPS)\n",
    "    # используйте np.arange () для выполнения шагов с плавающей запятой\n",
    "    for i in np.arange(0, clip_duration, 1 / saving_fps):\n",
    "        s.append(i)\n",
    "    return s"
   ]
  },
  {
   "cell_type": "code",
   "execution_count": null,
   "metadata": {},
   "outputs": [],
   "source": [
    "def main(video_file):\n",
    "    filename, _ = os.path.splitext(video_file)\n",
    "    filename += \"-opencv\"\n",
    "    # создаем папку по названию видео файла\n",
    "    if not os.path.isdir(filename):\n",
    "        os.mkdir(filename)\n",
    "    # читать видео файл    \n",
    "    cap = cv2.VideoCapture(video_file)\n",
    "    # получить FPS видео\n",
    "    fps = cap.get(cv2.CAP_PROP_FPS)\n",
    "    # если SAVING_FRAMES_PER_SECOND выше видео FPS, то установите его на FPS (как максимум)\n",
    "    saving_frames_per_second = min(fps, SAVING_FRAMES_PER_SECOND)\n",
    "    # получить список длительностей для сохранения\n",
    "    saving_frames_durations = get_saving_frames_durations(cap, saving_frames_per_second)\n",
    "    # запускаем цикл\n",
    "    count = 0\n",
    "    while True:\n",
    "        is_read, frame = cap.read()\n",
    "        if not is_read:\n",
    "            # выйти из цикла, если нет фреймов для чтения\n",
    "            break\n",
    "        # получаем продолжительность, разделив количество кадров на FPS\n",
    "        frame_duration = count / fps\n",
    "        try:\n",
    "            # получить самую раннюю продолжительность для сохранения\n",
    "            closest_duration = saving_frames_durations[0]\n",
    "        except IndexError:\n",
    "            # список пуст, все кадры длительности сохранены\n",
    "            break\n",
    "        if frame_duration >= closest_duration:\n",
    "            # если ближайшая длительность меньше или равна длительности кадра,\n",
    "            # затем сохраняем фрейм\n",
    "            frame_duration_formatted = format_timedelta(timedelta(seconds=frame_duration))\n",
    "            cv2.imwrite(os.path.join(filename, f\"frame{frame_duration_formatted}.jpg\"), frame) \n",
    "            # удалить точку продолжительности из списка, так как эта точка длительности уже сохранена\n",
    "            try:\n",
    "                saving_frames_durations.pop(0)\n",
    "            except IndexError:\n",
    "                pass\n",
    "        # увеличить количество кадров\n",
    "        count += 1"
   ]
  },
  {
   "cell_type": "code",
   "execution_count": null,
   "metadata": {},
   "outputs": [],
   "source": [
    "if __name__ == \"__main__\":\n",
    "    import sys\n",
    "    video_file = sys.argv[1]\n",
    "    main('IMG_2096.MOV') # сюда вставляем видеофайл для раскадровки, кадры будут сохранятся там же, где находится этот файл"
   ]
  }
 ],
 "metadata": {
  "kernelspec": {
   "display_name": "Python 3.8.5 ('pytorch')",
   "language": "python",
   "name": "python3"
  },
  "language_info": {
   "name": "python",
   "version": "3.8.5"
  },
  "orig_nbformat": 4,
  "vscode": {
   "interpreter": {
    "hash": "4f6bc48c44a94efb491dfba2f27a05a172968f5ef73feac14db7f38fc73efa28"
   }
  }
 },
 "nbformat": 4,
 "nbformat_minor": 2
}
